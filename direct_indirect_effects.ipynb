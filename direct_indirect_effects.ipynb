{
 "cells": [
  {
   "cell_type": "code",
   "execution_count": 29,
   "metadata": {},
   "outputs": [],
   "source": [
    "import numpy as np, pandas as pd"
   ]
  },
  {
   "cell_type": "code",
   "execution_count": 30,
   "metadata": {},
   "outputs": [],
   "source": [
    "import warnings\n",
    "\n",
    "warnings.filterwarnings('ignore')"
   ]
  },
  {
   "cell_type": "code",
   "execution_count": 31,
   "metadata": {},
   "outputs": [],
   "source": [
    "X = np.random.normal(loc=0, scale=1, size=1000)\n",
    "Z = 2*X + np.random.normal(loc=0, scale=1, size=1000)\n",
    "Y = 2*X + 3*Z + np.random.normal(loc=0, scale=1, size=1000)\n",
    "df = pd.DataFrame(data=dict(X=X, Y=Y, Z=Z))"
   ]
  },
  {
   "cell_type": "code",
   "execution_count": 32,
   "metadata": {},
   "outputs": [],
   "source": [
    "gml_string = \"\"\"\n",
    "graph [directed 1\n",
    "    node [\n",
    "      id 0\n",
    "      label \"X\"\n",
    "    ]\n",
    "    node [\n",
    "      id 1\n",
    "      label \"Z\"\n",
    "    ]\n",
    "    node [\n",
    "      id 2\n",
    "      label \"Y\"\n",
    "    ]\n",
    "    edge [\n",
    "    source 0\n",
    "    target 1\n",
    "    ]\n",
    "    edge [\n",
    "    source 0\n",
    "    target 2\n",
    "    ]\n",
    "    edge [\n",
    "    source 1\n",
    "    target 2\n",
    "    ]\n",
    "]\n",
    "\"\"\""
   ]
  },
  {
   "cell_type": "code",
   "execution_count": 33,
   "metadata": {},
   "outputs": [],
   "source": [
    "from dowhy import CausalModel\n",
    "\n",
    "model = CausalModel(\n",
    "    data=df,\n",
    "    treatment='X',\n",
    "    outcome='Y',\n",
    "    graph=gml_string\n",
    "    )"
   ]
  },
  {
   "cell_type": "code",
   "execution_count": 34,
   "metadata": {},
   "outputs": [
    {
     "data": {
      "image/png": "[encoded data removed]",
      "text/plain": [
       "<Figure size 800x600 with 1 Axes>"
      ]
     },
     "metadata": {},
     "output_type": "display_data"
    }
   ],
   "source": [
    "model.view_model()"
   ]
  },
  {
   "cell_type": "markdown",
   "metadata": {},
   "source": [
    "$\n",
    "Z = 2 \\times X \\\\\n",
    "Y = 2 \\times X + 3 \\times Z = 2 \\times X + 6 \\times X = 8 \\times X\n",
    "$\n",
    "\n",
    "+ Direct effect ($X \\rightarrow Y$): $2$\n",
    "+ Indirect effect ($X \\rightarrow Z \\rightarrow Y$): $6$\n",
    "+ Total effect: $8$"
   ]
  },
  {
   "cell_type": "markdown",
   "metadata": {},
   "source": [
    "# Direct and indirect effects"
   ]
  },
  {
   "cell_type": "markdown",
   "metadata": {},
   "source": [
    "## Identification"
   ]
  },
  {
   "cell_type": "code",
   "execution_count": 35,
   "metadata": {},
   "outputs": [
    {
     "name": "stdout",
     "output_type": "stream",
     "text": [
      "Estimand type: EstimandType.NONPARAMETRIC_NDE\n",
      "\n",
      "### Estimand : 1\n",
      "Estimand name: mediation\n",
      "Estimand expression:\n",
      " ⎡ d       ⎤\n",
      "E⎢────(Y|Z)⎥\n",
      " ⎣d[X]     ⎦\n",
      "Estimand assumption 1, Mediation: Z intercepts (blocks) all directed paths from X to Y except the path {X}→{Y}.\n",
      "Estimand assumption 2, First-stage-unconfoundedness: If U→{X} and U→{Z} then P(Z|X,U) = P(Z|X)\n",
      "Estimand assumption 3, Second-stage-unconfoundedness: If U→{Z} and U→Y then P(Y|Z, X, U) = P(Y|Z, X)\n",
      "\n"
     ]
    }
   ],
   "source": [
    "# Natural direct effect (nde)\n",
    "identified_estimand_nde = model.identify_effect(estimand_type=\"nonparametric-nde\",\n",
    "                                                proceed_when_unidentifiable=True)\n",
    "print(identified_estimand_nde)"
   ]
  },
  {
   "cell_type": "code",
   "execution_count": 36,
   "metadata": {},
   "outputs": [
    {
     "name": "stdout",
     "output_type": "stream",
     "text": [
      "Estimand type: EstimandType.NONPARAMETRIC_NIE\n",
      "\n",
      "### Estimand : 1\n",
      "Estimand name: mediation\n",
      "Estimand expression:\n",
      " ⎡ d       d       ⎤\n",
      "E⎢────(Y)⋅────([Z])⎥\n",
      " ⎣d[Z]    d[X]     ⎦\n",
      "Estimand assumption 1, Mediation: Z intercepts (blocks) all directed paths from X to Y except the path {X}→{Y}.\n",
      "Estimand assumption 2, First-stage-unconfoundedness: If U→{X} and U→{Z} then P(Z|X,U) = P(Z|X)\n",
      "Estimand assumption 3, Second-stage-unconfoundedness: If U→{Z} and U→Y then P(Y|Z, X, U) = P(Y|Z, X)\n",
      "\n"
     ]
    }
   ],
   "source": [
    "# Natural indirect effect (nie)\n",
    "identified_estimand_nie = model.identify_effect(estimand_type=\"nonparametric-nie\",\n",
    "                                           proceed_when_unidentifiable=True)\n",
    "print(identified_estimand_nie)"
   ]
  },
  {
   "cell_type": "markdown",
   "metadata": {},
   "source": [
    "## Estimation"
   ]
  },
  {
   "cell_type": "code",
   "execution_count": 44,
   "metadata": {},
   "outputs": [
    {
     "name": "stdout",
     "output_type": "stream",
     "text": [
      "*** Causal Estimate ***\n",
      "\n",
      "## Identified estimand\n",
      "Estimand type: EstimandType.NONPARAMETRIC_NIE\n",
      "\n",
      "### Estimand : 1\n",
      "Estimand name: mediation\n",
      "Estimand expression:\n",
      " ⎡ d       d       ⎤\n",
      "E⎢────(Y)⋅────([Z])⎥\n",
      " ⎣d[Z]    d[X]     ⎦\n",
      "Estimand assumption 1, Mediation: Z intercepts (blocks) all directed paths from X to Y except the path {X}→{Y}.\n",
      "Estimand assumption 2, First-stage-unconfoundedness: If U→{X} and U→{Z} then P(Z|X,U) = P(Z|X)\n",
      "Estimand assumption 3, Second-stage-unconfoundedness: If U→{Z} and U→Y then P(Y|Z, X, U) = P(Y|Z, X)\n",
      "\n",
      "## Realized estimand\n",
      "(b: Z~X)*(b: Y~Z+X)\n",
      "Target units: ate\n",
      "\n",
      "## Estimate\n",
      "Mean value: 6.058192029886622\n",
      "95.0% confidence interval: (5.853676342062071, 6.299797180043858)\n",
      "\n"
     ]
    }
   ],
   "source": [
    "import dowhy.causal_estimators.linear_regression_estimator\n",
    "\n",
    "causal_estimate_nie = model.estimate_effect(identified_estimand_nie,\n",
    "                                            method_name=\"mediation.two_stage_regression\",\n",
    "                                            confidence_intervals=True,\n",
    "                                            test_significance=False,\n",
    "                                            method_params = {\n",
    "                                                'first_stage_model': dowhy.causal_estimators.linear_regression_estimator.LinearRegressionEstimator,\n",
    "                                                'second_stage_model': dowhy.causal_estimators.linear_regression_estimator.LinearRegressionEstimator\n",
    "                                                }\n",
    "                                            )\n",
    "print(causal_estimate_nie)"
   ]
  },
  {
   "cell_type": "code",
   "execution_count": 45,
   "metadata": {},
   "outputs": [
    {
     "name": "stdout",
     "output_type": "stream",
     "text": [
      "*** Causal Estimate ***\n",
      "\n",
      "## Identified estimand\n",
      "Estimand type: EstimandType.NONPARAMETRIC_NDE\n",
      "\n",
      "### Estimand : 1\n",
      "Estimand name: mediation\n",
      "Estimand expression:\n",
      " ⎡ d       ⎤\n",
      "E⎢────(Y|Z)⎥\n",
      " ⎣d[X]     ⎦\n",
      "Estimand assumption 1, Mediation: Z intercepts (blocks) all directed paths from X to Y except the path {X}→{Y}.\n",
      "Estimand assumption 2, First-stage-unconfoundedness: If U→{X} and U→{Z} then P(Z|X,U) = P(Z|X)\n",
      "Estimand assumption 3, Second-stage-unconfoundedness: If U→{Z} and U→Y then P(Y|Z, X, U) = P(Y|Z, X)\n",
      "\n",
      "## Realized estimand\n",
      "(b: Y~X) - ((b: Z~X)*(b: Y~Z+X))\n",
      "Target units: ate\n",
      "\n",
      "## Estimate\n",
      "Mean value: 1.9614284055822369\n",
      "95.0% confidence interval: (1.8353819995016076, 2.1096343041963683)\n",
      "\n"
     ]
    }
   ],
   "source": [
    "causal_estimate_nde = model.estimate_effect(identified_estimand_nde,\n",
    "                                            method_name=\"mediation.two_stage_regression\",\n",
    "                                            confidence_intervals=True,\n",
    "                                            test_significance=False,\n",
    "                                            method_params = {\n",
    "                                                'first_stage_model': dowhy.causal_estimators.linear_regression_estimator.LinearRegressionEstimator,\n",
    "                                                'second_stage_model': dowhy.causal_estimators.linear_regression_estimator.LinearRegressionEstimator\n",
    "                                                }\n",
    "                                            )\n",
    "print(causal_estimate_nde)"
   ]
  },
  {
   "cell_type": "markdown",
   "metadata": {},
   "source": [
    "# Total effect"
   ]
  },
  {
   "cell_type": "code",
   "execution_count": 39,
   "metadata": {},
   "outputs": [
    {
     "name": "stdout",
     "output_type": "stream",
     "text": [
      "Estimand type: EstimandType.NONPARAMETRIC_ATE\n",
      "\n",
      "### Estimand : 1\n",
      "Estimand name: backdoor\n",
      "Estimand expression:\n",
      " d        \n",
      "────(E[Y])\n",
      "d[X]      \n",
      "Estimand assumption 1, Unconfoundedness: If U→{X} and U→Y then P(Y|X,,U) = P(Y|X,)\n",
      "\n",
      "### Estimand : 2\n",
      "Estimand name: iv\n",
      "No such variable(s) found!\n",
      "\n",
      "### Estimand : 3\n",
      "Estimand name: frontdoor\n",
      "No such variable(s) found!\n",
      "\n"
     ]
    }
   ],
   "source": [
    "estimand = model.identify_effect()\n",
    "print(estimand)"
   ]
  },
  {
   "cell_type": "code",
   "execution_count": 46,
   "metadata": {},
   "outputs": [],
   "source": [
    "estimate = model.estimate_effect(\n",
    "    identified_estimand=estimand,\n",
    "    method_name='backdoor.linear_regression',\n",
    "    confidence_intervals=True,\n",
    "    )"
   ]
  },
  {
   "cell_type": "code",
   "execution_count": 47,
   "metadata": {},
   "outputs": [
    {
     "name": "stdout",
     "output_type": "stream",
     "text": [
      "Estimate of causal effect (Linear Regression): 8.019620435468859\n"
     ]
    }
   ],
   "source": [
    "print(f'Estimate of causal effect (Linear Regression): {estimate.value}')"
   ]
  },
  {
   "cell_type": "code",
   "execution_count": 48,
   "metadata": {},
   "outputs": [
    {
     "name": "stdout",
     "output_type": "stream",
     "text": [
      "*** Causal Estimate ***\n",
      "\n",
      "## Identified estimand\n",
      "Estimand type: EstimandType.NONPARAMETRIC_ATE\n",
      "\n",
      "### Estimand : 1\n",
      "Estimand name: backdoor\n",
      "Estimand expression:\n",
      " d        \n",
      "────(E[Y])\n",
      "d[X]      \n",
      "Estimand assumption 1, Unconfoundedness: If U→{X} and U→Y then P(Y|X,,U) = P(Y|X,)\n",
      "\n",
      "## Realized estimand\n",
      "b: Y~X\n",
      "Target units: ate\n",
      "\n",
      "## Estimate\n",
      "Mean value: 8.019620435468859\n",
      "95.0% confidence interval: [[7.8235059  8.21573497]]\n",
      "\n"
     ]
    }
   ],
   "source": [
    "print(estimate)"
   ]
  }
 ],
 "metadata": {
  "kernelspec": {
   "display_name": ".venv",
   "language": "python",
   "name": "python3"
  },
  "language_info": {
   "codemirror_mode": {
    "name": "ipython",
    "version": 3
   },
   "file_extension": ".py",
   "mimetype": "text/x-python",
   "name": "python",
   "nbconvert_exporter": "python",
   "pygments_lexer": "ipython3",
   "version": "3.12.7"
  }
 },
 "nbformat": 4,
 "nbformat_minor": 2
}
