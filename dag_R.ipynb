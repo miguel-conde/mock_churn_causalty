{
 "cells": [
  {
   "cell_type": "code",
   "execution_count": null,
   "metadata": {
    "vscode": {
     "languageId": "r"
    }
   },
   "outputs": [],
   "source": [
    "library(tidyverse)\n",
    "library(dagitty)"
   ]
  },
  {
   "cell_type": "code",
   "execution_count": null,
   "metadata": {
    "vscode": {
     "languageId": "r"
    }
   },
   "outputs": [],
   "source": [
    "df = readr::read_csv(\"simulated_data_2.csv\") |> \n",
    "    mutate(treatment = as.logical(treatment),\n",
    "    income_bracket = as.factor(income_bracket),\n",
    "    region = as.factor(region))"
   ]
  },
  {
   "cell_type": "markdown",
   "metadata": {},
   "source": [
    "## Specify a causal question"
   ]
  },
  {
   "cell_type": "code",
   "execution_count": null,
   "metadata": {
    "vscode": {
     "languageId": "r"
    }
   },
   "outputs": [],
   "source": [
    "df |>\n",
    "    ggplot(aes(x = churn_risk_score, fill = treatment)) +\n",
    "    geom_density()"
   ]
  },
  {
   "cell_type": "code",
   "execution_count": null,
   "metadata": {
    "vscode": {
     "languageId": "r"
    }
   },
   "outputs": [],
   "source": [
    "df |>\n",
    "  group_by(treatment) |> \n",
    "  summarize(churn_risk_score = mean(churn_risk_score), .groups = 'drop')"
   ]
  },
  {
   "cell_type": "code",
   "execution_count": null,
   "metadata": {
    "vscode": {
     "languageId": "r"
    }
   },
   "outputs": [],
   "source": [
    "library(broom)\n",
    "df |>\n",
    "  lm(churn_risk_score ~ treatment, data = _) |>\n",
    "  tidy()"
   ]
  },
  {
   "cell_type": "markdown",
   "metadata": {},
   "source": [
    "## Draw our assumptions using a causal diagram (DAG)"
   ]
  },
  {
   "cell_type": "code",
   "execution_count": null,
   "metadata": {
    "vscode": {
     "languageId": "r"
    }
   },
   "outputs": [],
   "source": [
    "library(dagitty)\n",
    "\n",
    "dag <- dagitty('dag {\n",
    "  Age -> PaymentHistory\n",
    "  IncomeBracket -> PaymentHistory\n",
    "  Region -> MonthlyConsumption\n",
    "  HouseholdSize -> MonthlyConsumption\n",
    "  Age -> Satisfaction\n",
    "  IncomeBracket -> Satisfaction\n",
    "  Age -> Complaints\n",
    "  IncomeBracket -> Complaints\n",
    "\n",
    "  PaymentHistory -> ChurnRiskScore\n",
    "  MonthlyConsumption -> ChurnRiskScore\n",
    "  Satisfaction -> ChurnRiskScore\n",
    "  Complaints -> ChurnRiskScore\n",
    "\n",
    "  ChurnRiskScore -> flag_unsatisfied\n",
    "  Satisfaction -> flag_unsatisfied\n",
    "\n",
    "  ChurnRiskScore -> Treatment\n",
    "  flag_unsatisfied -> Treatment\n",
    "\n",
    "  ChurnRiskScore -> Churned\n",
    "  Treatment -> Churned\n",
    "}')\n",
    "\n",
    "# Visualizamos\n",
    "plot(dag)"
   ]
  },
  {
   "cell_type": "markdown",
   "metadata": {},
   "source": [
    "## Model our assumptions\n",
    "\n",
    "### Propensity model"
   ]
  },
  {
   "cell_type": "code",
   "execution_count": null,
   "metadata": {
    "vscode": {
     "languageId": "r"
    }
   },
   "outputs": [],
   "source": [
    "the_formula <- formula(\"treatment ~ age + income_bracket + region + household_size + tenure + payment_history + monthly_consumption + customer_satisfaction_score + complaints_last_year\")\n",
    "# the_formula <- formula(treatment ~ churn_risk_score)\n",
    "\n",
    "propensity_model <- glm(\n",
    "  the_formula,\n",
    "  data = df,\n",
    "  family = binomial()\n",
    ")"
   ]
  },
  {
   "cell_type": "code",
   "execution_count": null,
   "metadata": {
    "vscode": {
     "languageId": "r"
    }
   },
   "outputs": [],
   "source": [
    "library(broom)\n",
    "library(propensity)\n",
    "\n",
    "df_wts <- propensity_model |>\n",
    "  augment(data = df, type.predict = \"response\") |>\n",
    "  # .fitted is the value predicted by the model\n",
    "  # for a given observation\n",
    "  mutate(wts = wt_ate(.fitted, treatment))\n",
    "\n",
    "df_wts |>\n",
    "  select(treatment, .fitted, wts) |>\n",
    "  head()"
   ]
  },
  {
   "cell_type": "markdown",
   "metadata": {},
   "source": [
    "## Diagnose our models"
   ]
  },
  {
   "cell_type": "markdown",
   "metadata": {},
   "source": [
    "<!-- ## Diagnose our models -->"
   ]
  },
  {
   "cell_type": "code",
   "execution_count": null,
   "metadata": {
    "vscode": {
     "languageId": "r"
    }
   },
   "outputs": [],
   "source": [
    "library(halfmoon)\n",
    "ggplot(df_wts, aes(.fitted)) +\n",
    "  geom_mirror_histogram(\n",
    "    aes(fill = treatment),\n",
    "    bins = 50\n",
    "  ) +\n",
    "  scale_y_continuous(labels = abs) +\n",
    "  labs(x = \"propensity score\")"
   ]
  },
  {
   "cell_type": "code",
   "execution_count": null,
   "metadata": {
    "vscode": {
     "languageId": "r"
    }
   },
   "outputs": [],
   "source": [
    "ggplot(df_wts, aes(.fitted)) +\n",
    "  geom_mirror_histogram(\n",
    "    aes(group = treatment),\n",
    "    bins = 50\n",
    "  ) +\n",
    "  geom_mirror_histogram(\n",
    "    aes(fill = treatment, weight = wts),\n",
    "    bins = 50,\n",
    "    alpha = .5\n",
    "  ) +\n",
    "  scale_y_continuous(labels = abs) +\n",
    "  labs(x = \"propensity score\")"
   ]
  },
  {
   "cell_type": "code",
   "execution_count": null,
   "metadata": {
    "vscode": {
     "languageId": "r"
    }
   },
   "outputs": [],
   "source": [
    "plot_df <- tidy_smd(\n",
    "  df_wts,\n",
    "  c(income_bracket, region, household_size, tenure, payment_history, monthly_consumption, customer_satisfaction_score, complaints_last_year),\n",
    "  # c(churn_risk_score),\n",
    "  .group = treatment,\n",
    "  .wts = wts\n",
    ")\n",
    "\n",
    "ggplot(\n",
    "  plot_df,\n",
    "  aes(\n",
    "    x = abs(smd),\n",
    "    y = variable,\n",
    "    group = method,\n",
    "    color = method\n",
    "  )\n",
    ") +\n",
    "  geom_love()"
   ]
  },
  {
   "cell_type": "code",
   "execution_count": null,
   "metadata": {
    "vscode": {
     "languageId": "r"
    }
   },
   "outputs": [],
   "source": [
    "df_wts |>\n",
    "  ggplot(aes(wts)) +\n",
    "  geom_density(fill = \"#CC79A7\", color = NA, alpha = 0.8)"
   ]
  },
  {
   "cell_type": "markdown",
   "metadata": {},
   "source": [
    "## Estimate the causal effect"
   ]
  },
  {
   "cell_type": "markdown",
   "metadata": {},
   "source": [
    "### Using the weights"
   ]
  },
  {
   "cell_type": "code",
   "execution_count": null,
   "metadata": {
    "vscode": {
     "languageId": "r"
    }
   },
   "outputs": [],
   "source": [
    "df_wts |>\n",
    "  lm(churned ~ treatment, data = _, weights = wts) |>\n",
    "  tidy(conf.int = TRUE)"
   ]
  },
  {
   "cell_type": "code",
   "execution_count": null,
   "metadata": {
    "vscode": {
     "languageId": "r"
    }
   },
   "outputs": [],
   "source": [
    "library(rsample)\n",
    "\n",
    "fit_ipw <- function(.split, ...) {\n",
    "  # get bootstrapped data frame\n",
    "  .df <- as.data.frame(.split)\n",
    "\n",
    "  # fit propensity score model\n",
    "  propensity_model <- glm(\n",
    "    the_formula,\n",
    "    data = .df,\n",
    "    family = binomial()\n",
    "  )\n",
    "\n",
    "  # calculate inverse probability weights\n",
    "  .df <- propensity_model |>\n",
    "    augment(type.predict = \"response\", data = .df) |>\n",
    "    mutate(wts = wt_ate(.fitted, treatment))\n",
    "\n",
    "  # fit correctly bootstrapped ipw model\n",
    "  lm(churned ~ treatment, data = .df, weights = wts) |>\n",
    "    tidy()\n",
    "}"
   ]
  },
  {
   "cell_type": "code",
   "execution_count": null,
   "metadata": {
    "vscode": {
     "languageId": "r"
    }
   },
   "outputs": [],
   "source": [
    "bootstrapped_net_data <- bootstraps(\n",
    "  df,\n",
    "  times = 1000,\n",
    "  # required to calculate CIs later\n",
    "  apparent = TRUE\n",
    ")\n",
    "\n",
    "bootstrapped_net_data"
   ]
  },
  {
   "cell_type": "code",
   "execution_count": null,
   "metadata": {
    "vscode": {
     "languageId": "r"
    }
   },
   "outputs": [],
   "source": [
    "ipw_results <- bootstrapped_net_data |>\n",
    "  mutate(boot_fits = map(splits, fit_ipw))\n",
    "\n",
    "ipw_results"
   ]
  },
  {
   "cell_type": "code",
   "execution_count": null,
   "metadata": {
    "vscode": {
     "languageId": "r"
    }
   },
   "outputs": [],
   "source": [
    "ipw_results$boot_fits |> head()"
   ]
  },
  {
   "cell_type": "code",
   "execution_count": null,
   "metadata": {
    "vscode": {
     "languageId": "r"
    }
   },
   "outputs": [],
   "source": [
    "ipw_results$boot_fits[[1]]"
   ]
  },
  {
   "cell_type": "code",
   "execution_count": null,
   "metadata": {
    "vscode": {
     "languageId": "r"
    }
   },
   "outputs": [],
   "source": [
    "ipw_results |>\n",
    "  # remove original data set results\n",
    "  filter(id != \"Apparent\") |> \n",
    "  mutate(\n",
    "    estimate = map_dbl(\n",
    "      boot_fits,\n",
    "      # pull the `estimate` for `netTRUE` for each fit\n",
    "      \\(.fit) .fit |>\n",
    "        filter(term == \"treatmentTRUE\") |>\n",
    "        pull(estimate)\n",
    "    )\n",
    "  ) |>\n",
    "  ggplot(aes(estimate)) +\n",
    "  geom_histogram(fill = \"#D55E00FF\", color = \"white\", alpha = 0.8)"
   ]
  },
  {
   "cell_type": "code",
   "execution_count": null,
   "metadata": {
    "vscode": {
     "languageId": "r"
    }
   },
   "outputs": [],
   "source": [
    "boot_estimate <- ipw_results |>\n",
    "  # calculate T-statistic-based CIs\n",
    "  int_t(boot_fits) |>\n",
    "  filter(term == \"treatmentTRUE\")\n",
    "\n",
    "boot_estimate"
   ]
  },
  {
   "cell_type": "markdown",
   "metadata": {},
   "source": [
    "### Directly"
   ]
  },
  {
   "cell_type": "markdown",
   "metadata": {},
   "source": [
    "Para ver que, sin pesos, los subestima ligeramente"
   ]
  },
  {
   "cell_type": "code",
   "execution_count": null,
   "metadata": {
    "vscode": {
     "languageId": "r"
    }
   },
   "outputs": [],
   "source": [
    "# Fit a logistic regression model Churned ~ Treatment\n",
    "log_model <- glm(churned ~ treatment, data = df, family = \"binomial\")\n",
    "summary(log_model)"
   ]
  },
  {
   "cell_type": "code",
   "execution_count": null,
   "metadata": {
    "vscode": {
     "languageId": "r"
    }
   },
   "outputs": [],
   "source": [
    "as.numeric(1 + exp(-coef(log_model)['(Intercept)'])) / as.numeric(1 + exp(-coef(log_model)['(Intercept)']-coef(log_model)['treatmentTRUE']))"
   ]
  },
  {
   "cell_type": "code",
   "execution_count": null,
   "metadata": {
    "vscode": {
     "languageId": "r"
    }
   },
   "outputs": [],
   "source": [
    "lm_model <- lm(churn_risk_score ~ treatment, data = df)\n",
    "summary(lm_model)"
   ]
  },
  {
   "cell_type": "code",
   "execution_count": null,
   "metadata": {
    "vscode": {
     "languageId": "r"
    }
   },
   "outputs": [],
   "source": [
    "confint(lm_model)['treatmentTRUE',]"
   ]
  },
  {
   "cell_type": "code",
   "execution_count": null,
   "metadata": {
    "vscode": {
     "languageId": "r"
    }
   },
   "outputs": [],
   "source": [
    "lm_model |>\n",
    "  tidy(conf.int = TRUE)"
   ]
  },
  {
   "cell_type": "markdown",
   "metadata": {},
   "source": [
    "## Conduct sensitivity analysis on the effect estimate"
   ]
  }
 ],
 "metadata": {
  "kernelspec": {
   "display_name": "R",
   "language": "R",
   "name": "ir"
  },
  "language_info": {
   "codemirror_mode": "r",
   "file_extension": ".r",
   "mimetype": "text/x-r-source",
   "name": "R",
   "pygments_lexer": "r",
   "version": "4.4.0"
  }
 },
 "nbformat": 4,
 "nbformat_minor": 2
}
